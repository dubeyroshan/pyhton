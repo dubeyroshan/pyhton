{
 "cells": [
  {
   "cell_type": "markdown",
   "id": "2e3b1932",
   "metadata": {},
   "source": [
    "### hello world"
   ]
  },
  {
   "cell_type": "markdown",
   "id": "294a27df",
   "metadata": {},
   "source": [
    "# hhi"
   ]
  },
  {
   "cell_type": "markdown",
   "id": "b93b8623",
   "metadata": {},
   "source": [
    "#### hi"
   ]
  },
  {
   "cell_type": "markdown",
   "id": "70572f2c",
   "metadata": {},
   "source": [
    "##### hi"
   ]
  },
  {
   "cell_type": "markdown",
   "id": "38af496b",
   "metadata": {},
   "source": [
    "###### hi"
   ]
  },
  {
   "cell_type": "code",
   "execution_count": 1,
   "id": "575e80b5",
   "metadata": {},
   "outputs": [
    {
     "name": "stdout",
     "output_type": "stream",
     "text": [
      "Hello world\n"
     ]
    }
   ],
   "source": [
    "print(\"Hello world\")"
   ]
  },
  {
   "cell_type": "code",
   "execution_count": 2,
   "id": "4c62fc7b",
   "metadata": {},
   "outputs": [
    {
     "name": "stdout",
     "output_type": "stream",
     "text": [
      "Roshan\n"
     ]
    }
   ],
   "source": [
    "print(\"Roshan\")"
   ]
  },
  {
   "cell_type": "code",
   "execution_count": 3,
   "id": "6935e6b3",
   "metadata": {},
   "outputs": [
    {
     "name": "stdout",
     "output_type": "stream",
     "text": [
      "datascience\n"
     ]
    }
   ],
   "source": [
    "print(\"datascience\")"
   ]
  },
  {
   "cell_type": "markdown",
   "id": "d090331b",
   "metadata": {},
   "source": [
    "#### variable"
   ]
  },
  {
   "cell_type": "code",
   "execution_count": 6,
   "id": "fc8face5",
   "metadata": {},
   "outputs": [],
   "source": [
    "name=\"roshan\"\n",
    "age=21\n",
    "income=20000"
   ]
  },
  {
   "cell_type": "code",
   "execution_count": 8,
   "id": "c7a0633e",
   "metadata": {},
   "outputs": [
    {
     "name": "stdout",
     "output_type": "stream",
     "text": [
      "roshan\n",
      "21\n",
      "20000\n"
     ]
    }
   ],
   "source": [
    "print(name)\n",
    "print(age)\n",
    "print(income)"
   ]
  },
  {
   "cell_type": "code",
   "execution_count": 11,
   "id": "321f20d5",
   "metadata": {},
   "outputs": [],
   "source": [
    "namelist=\"roshan\",\"dubey\"\n"
   ]
  },
  {
   "cell_type": "markdown",
   "id": "794bf717",
   "metadata": {},
   "source": []
  },
  {
   "cell_type": "code",
   "execution_count": 12,
   "id": "b249e711",
   "metadata": {},
   "outputs": [
    {
     "data": {
      "text/plain": [
       "('roshan', 'dubey')"
      ]
     },
     "execution_count": 12,
     "metadata": {},
     "output_type": "execute_result"
    }
   ],
   "source": [
    "namelist=\"roshan\",\"dubey\"\n",
    "namelist"
   ]
  },
  {
   "cell_type": "markdown",
   "id": "dfb9014d",
   "metadata": {},
   "source": [
    "### space is n0t allowed"
   ]
  },
  {
   "cell_type": "markdown",
   "id": "73f38eb2",
   "metadata": {},
   "source": [
    "## variable name should not start with integers"
   ]
  },
  {
   "cell_type": "markdown",
   "id": "991579d0",
   "metadata": {},
   "source": [
    "### variable should not contain any special character"
   ]
  },
  {
   "cell_type": "markdown",
   "id": "a6ea553c",
   "metadata": {},
   "source": [
    "### variable name should start with A-Z,a-z or underscore"
   ]
  },
  {
   "cell_type": "code",
   "execution_count": 15,
   "id": "752921d7",
   "metadata": {},
   "outputs": [
    {
     "data": {
      "text/plain": [
       "'roshan'"
      ]
     },
     "execution_count": 15,
     "metadata": {},
     "output_type": "execute_result"
    }
   ],
   "source": [
    "name_list=\"roshan\"\n",
    "name_list"
   ]
  },
  {
   "cell_type": "code",
   "execution_count": 16,
   "id": "eb491910",
   "metadata": {},
   "outputs": [],
   "source": [
    "name=\"roshan\"\n",
    "name=\"dubey\""
   ]
  },
  {
   "cell_type": "code",
   "execution_count": 17,
   "id": "209e3756",
   "metadata": {},
   "outputs": [
    {
     "name": "stdout",
     "output_type": "stream",
     "text": [
      "dubey\n"
     ]
    }
   ],
   "source": [
    "print(name)"
   ]
  },
  {
   "cell_type": "code",
   "execution_count": 18,
   "id": "850b7af2",
   "metadata": {},
   "outputs": [],
   "source": [
    "x=y=z=5"
   ]
  },
  {
   "cell_type": "code",
   "execution_count": 19,
   "id": "1dc04dda",
   "metadata": {},
   "outputs": [
    {
     "name": "stdout",
     "output_type": "stream",
     "text": [
      "5\n"
     ]
    }
   ],
   "source": [
    "print(x)"
   ]
  },
  {
   "cell_type": "code",
   "execution_count": 20,
   "id": "438788f5",
   "metadata": {},
   "outputs": [
    {
     "name": "stdout",
     "output_type": "stream",
     "text": [
      "5\n"
     ]
    }
   ],
   "source": [
    "print(y)"
   ]
  },
  {
   "cell_type": "code",
   "execution_count": 21,
   "id": "1a0c9118",
   "metadata": {},
   "outputs": [
    {
     "name": "stdout",
     "output_type": "stream",
     "text": [
      "5\n"
     ]
    }
   ],
   "source": [
    "print(z)"
   ]
  },
  {
   "cell_type": "code",
   "execution_count": 22,
   "id": "20339e7b",
   "metadata": {},
   "outputs": [],
   "source": [
    "x,y,z=1,2,3"
   ]
  },
  {
   "cell_type": "code",
   "execution_count": 23,
   "id": "e882fe68",
   "metadata": {},
   "outputs": [
    {
     "name": "stdout",
     "output_type": "stream",
     "text": [
      "1\n"
     ]
    }
   ],
   "source": [
    "print(x)"
   ]
  },
  {
   "cell_type": "code",
   "execution_count": 24,
   "id": "c52d18f1",
   "metadata": {},
   "outputs": [
    {
     "name": "stdout",
     "output_type": "stream",
     "text": [
      "2\n"
     ]
    }
   ],
   "source": [
    "print(y)"
   ]
  },
  {
   "cell_type": "code",
   "execution_count": 25,
   "id": "4393fd0a",
   "metadata": {},
   "outputs": [
    {
     "name": "stdout",
     "output_type": "stream",
     "text": [
      "3\n"
     ]
    }
   ],
   "source": [
    "print(z)"
   ]
  },
  {
   "cell_type": "code",
   "execution_count": 26,
   "id": "cb138417",
   "metadata": {},
   "outputs": [],
   "source": [
    "name=\"roshan\""
   ]
  },
  {
   "cell_type": "code",
   "execution_count": 28,
   "id": "eed3e2e1",
   "metadata": {},
   "outputs": [
    {
     "name": "stdout",
     "output_type": "stream",
     "text": [
      "roshan\n"
     ]
    },
    {
     "data": {
      "text/plain": [
       "str"
      ]
     },
     "execution_count": 28,
     "metadata": {},
     "output_type": "execute_result"
    }
   ],
   "source": [
    "print(name)\n",
    "type(name)"
   ]
  },
  {
   "cell_type": "code",
   "execution_count": 30,
   "id": "d8eaec31",
   "metadata": {},
   "outputs": [
    {
     "data": {
      "text/plain": [
       "int"
      ]
     },
     "execution_count": 30,
     "metadata": {},
     "output_type": "execute_result"
    }
   ],
   "source": [
    "x=10\n",
    "type(x)"
   ]
  },
  {
   "cell_type": "code",
   "execution_count": 34,
   "id": "8ab0332c",
   "metadata": {},
   "outputs": [],
   "source": [
    "x=False"
   ]
  },
  {
   "cell_type": "code",
   "execution_count": 35,
   "id": "6d6ef757",
   "metadata": {},
   "outputs": [
    {
     "data": {
      "text/plain": [
       "bool"
      ]
     },
     "execution_count": 35,
     "metadata": {},
     "output_type": "execute_result"
    }
   ],
   "source": [
    "type(x)"
   ]
  },
  {
   "cell_type": "markdown",
   "id": "6ceb42da",
   "metadata": {},
   "source": [
    "#### python is case sensitive"
   ]
  },
  {
   "cell_type": "markdown",
   "id": "6924a938",
   "metadata": {},
   "source": [
    "### implicit conversion"
   ]
  },
  {
   "cell_type": "markdown",
   "id": "01fa64c3",
   "metadata": {},
   "source": [
    "### explicit conversion"
   ]
  },
  {
   "cell_type": "code",
   "execution_count": 36,
   "id": "5ed70fee",
   "metadata": {},
   "outputs": [
    {
     "data": {
      "text/plain": [
       "20.5"
      ]
     },
     "execution_count": 36,
     "metadata": {},
     "output_type": "execute_result"
    }
   ],
   "source": [
    "x=10.5\n",
    "y=\"10\"\n",
    "x+int(y)"
   ]
  },
  {
   "cell_type": "code",
   "execution_count": 42,
   "id": "98ce7ceb",
   "metadata": {},
   "outputs": [
    {
     "data": {
      "text/plain": [
       "5"
      ]
     },
     "execution_count": 42,
     "metadata": {},
     "output_type": "execute_result"
    }
   ],
   "source": [
    "x=5\n",
    "int(x)"
   ]
  },
  {
   "cell_type": "code",
   "execution_count": 43,
   "id": "77a25e6d",
   "metadata": {},
   "outputs": [
    {
     "data": {
      "text/plain": [
       "'5'"
      ]
     },
     "execution_count": 43,
     "metadata": {},
     "output_type": "execute_result"
    }
   ],
   "source": [
    "str(x)"
   ]
  },
  {
   "cell_type": "code",
   "execution_count": 44,
   "id": "8ab734d4",
   "metadata": {},
   "outputs": [
    {
     "data": {
      "text/plain": [
       "5.0"
      ]
     },
     "execution_count": 44,
     "metadata": {},
     "output_type": "execute_result"
    }
   ],
   "source": [
    "float(x)"
   ]
  },
  {
   "cell_type": "code",
   "execution_count": 47,
   "id": "a2794d7e",
   "metadata": {},
   "outputs": [
    {
     "ename": "ValueError",
     "evalue": "invalid literal for int() with base 10: 'yu'",
     "output_type": "error",
     "traceback": [
      "\u001b[1;31m---------------------------------------------------------------------------\u001b[0m",
      "\u001b[1;31mValueError\u001b[0m                                Traceback (most recent call last)",
      "Cell \u001b[1;32mIn[47], line 2\u001b[0m\n\u001b[0;32m      1\u001b[0m x\u001b[38;5;241m=\u001b[39m\u001b[38;5;124m'\u001b[39m\u001b[38;5;124myu\u001b[39m\u001b[38;5;124m'\u001b[39m\n\u001b[1;32m----> 2\u001b[0m \u001b[38;5;28;43mint\u001b[39;49m\u001b[43m(\u001b[49m\u001b[43mx\u001b[49m\u001b[43m)\u001b[49m\n",
      "\u001b[1;31mValueError\u001b[0m: invalid literal for int() with base 10: 'yu'"
     ]
    }
   ],
   "source": [
    "x='yu'\n",
    "int(x)"
   ]
  },
  {
   "cell_type": "code",
   "execution_count": 48,
   "id": "f649b167",
   "metadata": {},
   "outputs": [
    {
     "ename": "ValueError",
     "evalue": "could not convert string to float: 'hi'",
     "output_type": "error",
     "traceback": [
      "\u001b[1;31m---------------------------------------------------------------------------\u001b[0m",
      "\u001b[1;31mValueError\u001b[0m                                Traceback (most recent call last)",
      "Cell \u001b[1;32mIn[48], line 2\u001b[0m\n\u001b[0;32m      1\u001b[0m x\u001b[38;5;241m=\u001b[39m\u001b[38;5;124m'\u001b[39m\u001b[38;5;124mhi\u001b[39m\u001b[38;5;124m'\u001b[39m\n\u001b[1;32m----> 2\u001b[0m \u001b[38;5;28;43mfloat\u001b[39;49m\u001b[43m(\u001b[49m\u001b[43mx\u001b[49m\u001b[43m)\u001b[49m\n",
      "\u001b[1;31mValueError\u001b[0m: could not convert string to float: 'hi'"
     ]
    }
   ],
   "source": [
    "x='hi'\n",
    "float(x)"
   ]
  },
  {
   "cell_type": "code",
   "execution_count": 49,
   "id": "b5702747",
   "metadata": {},
   "outputs": [
    {
     "data": {
      "text/plain": [
       "'10.4'"
      ]
     },
     "execution_count": 49,
     "metadata": {},
     "output_type": "execute_result"
    }
   ],
   "source": [
    "x=10.4\n",
    "str(x)"
   ]
  },
  {
   "cell_type": "code",
   "execution_count": 50,
   "id": "bc4eca48",
   "metadata": {},
   "outputs": [
    {
     "data": {
      "text/plain": [
       "10"
      ]
     },
     "execution_count": 50,
     "metadata": {},
     "output_type": "execute_result"
    }
   ],
   "source": [
    "int(x)"
   ]
  },
  {
   "cell_type": "code",
   "execution_count": null,
   "id": "90616b61",
   "metadata": {},
   "outputs": [],
   "source": []
  }
 ],
 "metadata": {
  "kernelspec": {
   "display_name": "Python 3 (ipykernel)",
   "language": "python",
   "name": "python3"
  },
  "language_info": {
   "codemirror_mode": {
    "name": "ipython",
    "version": 3
   },
   "file_extension": ".py",
   "mimetype": "text/x-python",
   "name": "python",
   "nbconvert_exporter": "python",
   "pygments_lexer": "ipython3",
   "version": "3.10.9"
  }
 },
 "nbformat": 4,
 "nbformat_minor": 5
}
